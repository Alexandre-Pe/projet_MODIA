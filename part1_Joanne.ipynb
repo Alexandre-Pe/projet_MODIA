{
  "cells": [
    {
      "cell_type": "code",
      "execution_count": 3,
      "metadata": {
        "colab": {
          "base_uri": "https://localhost:8080/"
        },
        "id": "iFJ0fJxzMCHW",
        "outputId": "5edbfeed-04c9-4cad-89a1-2ad08b57dd2f"
      },
      "outputs": [
        {
          "output_type": "stream",
          "name": "stdout",
          "text": [
            "Mounted at /content/drive\n"
          ]
        }
      ],
      "source": [
        "from google.colab import drive\n",
        "drive.mount('/content/drive', force_remount=True)"
      ]
    },
    {
      "cell_type": "code",
      "execution_count": 2,
      "metadata": {
        "colab": {
          "base_uri": "https://localhost:8080/"
        },
        "id": "iulj9UqBMD3R",
        "outputId": "79e48458-1822-43aa-d479-308e5bcbcb4c"
      },
      "outputs": [
        {
          "output_type": "stream",
          "name": "stdout",
          "text": [
            "/content/drive/MyDrive/AI_Framework\n"
          ]
        }
      ],
      "source": [
        "%cd /content/drive/MyDrive/AI_Framework"
      ]
    },
    {
      "cell_type": "code",
      "execution_count": 3,
      "metadata": {
        "id": "o2xuZwhnLxlY"
      },
      "outputs": [],
      "source": [
        "import pandas as pd\n",
        "import numpy as np\n",
        "import matplotlib.pyplot as plt\n",
        "import seaborn as sns"
      ]
    },
    {
      "cell_type": "code",
      "execution_count": 4,
      "metadata": {
        "id": "nVTdsg_DLxli"
      },
      "outputs": [],
      "source": [
        "# interactions_test = pd.read_csv(\"data/interactions_test.csv\")\n",
        "# interactions_train = pd.read_csv(\"data/interactions_train.csv\")\n",
        "# raw_interactions = pd.read_csv(\"data/RAW_interactions.csv\")\n",
        "raw_recipes = pd.read_csv(\"data/RAW_recipes.csv\")"
      ]
    },
    {
      "cell_type": "markdown",
      "metadata": {
        "id": "sfWPOIG0Lxll"
      },
      "source": [
        "Recommendations :\n",
        "\n",
        "- popularité\n",
        "- étapes de la recette (steps)\n",
        "- description de la recette"
      ]
    },
    {
      "cell_type": "code",
      "execution_count": 4,
      "metadata": {
        "colab": {
          "base_uri": "https://localhost:8080/",
          "height": 462
        },
        "id": "GWnIFNPHLxlp",
        "outputId": "a30a9602-0715-4924-e800-48f8f5e10d71"
      },
      "outputs": [
        {
          "output_type": "display_data",
          "data": {
            "text/plain": [
              "<Figure size 1200x600 with 1 Axes>"
            ],
            "image/png": "[encoded data removed]"
          },
          "metadata": {}
        }
      ],
      "source": [
        "raw_recipes[\"year\"] = raw_recipes[\"submitted\"].str.split(\"-\", expand = True)[0]\n",
        "raw_recipes[\"year\"] = raw_recipes[\"year\"].fillna(-1).astype(int).replace(-1, np.nan)\n",
        "\n",
        "plt.figure(figsize=(12,6))\n",
        "sns.histplot(data=raw_recipes, x=\"year\", bins = 15)\n",
        "plt.title(\"Nombre de recettes par an\")\n",
        "plt.show()"
      ]
    },
    {
      "cell_type": "code",
      "source": [
        "import random\n",
        "random.seed(1)\n",
        "subset = raw_recipes.iloc[random.sample(range(raw_recipes.shape[0]), k= 30000, ),:].reset_index(drop=True)"
      ],
      "metadata": {
        "id": "VDQ-ICY7SWh3"
      },
      "execution_count": 26,
      "outputs": []
    },
    {
      "cell_type": "code",
      "source": [
        "del(raw_recipes)"
      ],
      "metadata": {
        "id": "6jxnYEVzVhiM"
      },
      "execution_count": 6,
      "outputs": []
    },
    {
      "cell_type": "markdown",
      "metadata": {
        "id": "XSXQqfEVLxlu"
      },
      "source": [
        "# Recommendation par les étapes de la recette :"
      ]
    },
    {
      "cell_type": "code",
      "execution_count": 7,
      "metadata": {
        "colab": {
          "base_uri": "https://localhost:8080/"
        },
        "id": "OZW80fqALxlv",
        "outputId": "1776cefc-6750-46ce-d3e8-6b434969b6bf"
      },
      "outputs": [
        {
          "output_type": "execute_result",
          "data": {
            "text/plain": [
              "0        1) after your coffee has brewed , combine the ...\n",
              "1        in a blender , combine the peaches , milk , or...\n",
              "2        pre-heat oven to 350 degrees in a large , heav...\n",
              "3        combine the flour , salt , hot water and short...\n",
              "4        put chicken and cream cheese in a pot on stove...\n",
              "                               ...                        \n",
              "29995    halve the peppers , remove the ribs and seeds ...\n",
              "29996    preheat oven to 400 degrees mix all of the ing...\n",
              "29997    place chicken in a resealable plastic bag set ...\n",
              "29998    preheat oven to 350 degrees f heat half the bu...\n",
              "29999    preheat oven to 350 degrees fahrenheit with a ...\n",
              "Name: all_steps, Length: 30000, dtype: object"
            ]
          },
          "metadata": {},
          "execution_count": 7
        }
      ],
      "source": [
        "subset[\"all_steps\"] = subset[\"steps\"].apply(lambda x : ' '.join(eval(x)))\n",
        "subset[\"all_steps\"]"
      ]
    },
    {
      "cell_type": "code",
      "source": [
        "from nltk import word_tokenize\n",
        "from nltk.stem import SnowballStemmer\n",
        "import nltk\n",
        "from nltk.corpus import stopwords\n",
        "\n",
        "nltk.download('punkt')\n",
        "nltk.download('stopwords')\n",
        "# Download stopwords list\n",
        "stop_words = set(stopwords.words('english'))\n",
        "\n",
        "# Interface lemma tokenizer from nltk with sklearn\n",
        "class StemTokenizer:\n",
        "    ignore_tokens = [',', '.', ';', ':', '\"', '``', \"''\", '`']\n",
        "    def __init__(self):\n",
        "        self.stemmer = SnowballStemmer('english')\n",
        "    def __call__(self, doc):\n",
        "        return [self.stemmer.stem(t) for t in word_tokenize(doc) if t not in self.ignore_tokens]\n",
        "\n",
        "tokenizer=StemTokenizer()"
      ],
      "metadata": {
        "colab": {
          "base_uri": "https://localhost:8080/"
        },
        "id": "1tz6ea9oAvlw",
        "outputId": "afd7a121-eb18-4c6c-b837-85726d30a20f"
      },
      "execution_count": 5,
      "outputs": [
        {
          "output_type": "stream",
          "name": "stderr",
          "text": [
            "[nltk_data] Downloading package punkt to /root/nltk_data...\n",
            "[nltk_data]   Package punkt is already up-to-date!\n",
            "[nltk_data] Downloading package stopwords to /root/nltk_data...\n",
            "[nltk_data]   Package stopwords is already up-to-date!\n"
          ]
        }
      ]
    },
    {
      "cell_type": "code",
      "execution_count": 9,
      "metadata": {
        "id": "GA4XKHeQLxlx"
      },
      "outputs": [],
      "source": [
        "# Lemmatize the stop words\n",
        "from sklearn.feature_extraction.text import TfidfVectorizer\n",
        "token_stop = tokenizer(' '.join(stop_words))\n",
        "\n",
        "tfidf = TfidfVectorizer(stop_words=token_stop, max_features=4000)\n",
        "tfidf_matrix = tfidf.fit_transform(subset[\"all_steps\"])\n",
        "\n",
        "from sklearn.metrics.pairwise import cosine_distances\n",
        "cosine_sim = cosine_distances(tfidf_matrix)\n",
        "\n",
        "np.save(\"cosine_sim.npy\", cosine_sim)\n",
        "# cosine_sim = np.load(\"cosine_sim.npy\")"
      ]
    },
    {
      "cell_type": "code",
      "source": [
        "subset[\"name\"].head(20)"
      ],
      "metadata": {
        "id": "7l9VTnfKWwSI",
        "colab": {
          "base_uri": "https://localhost:8080/"
        },
        "outputId": "cce1985c-af4d-469b-b322-ba3148ff89c1"
      },
      "execution_count": 11,
      "outputs": [
        {
          "output_type": "execute_result",
          "data": {
            "text/plain": [
              "0      cappuccino recipe without an expensive machine\n",
              "1                              orange peach smoothies\n",
              "2                             vegetarian kenyan curry\n",
              "3          tgi friday s pot stickers w  dipping sauce\n",
              "4                  stove top buffalo chicken wing dip\n",
              "5                        banana date walnut breakfast\n",
              "6     croissant   salmon  or ham  breakfast casserole\n",
              "7                              bubbly cranberry punch\n",
              "8                                   maple baked beets\n",
              "9                                     steamed mussels\n",
              "10                       king prawns in swahili sauce\n",
              "11                 light salad dressing with shallots\n",
              "12                  raspberry cheesecake cookie pizza\n",
              "13                           grilled pork   pineapple\n",
              "14               sweet ramadan dumplings   lokmit ady\n",
              "15                            cleaning a cuttingboard\n",
              "16                                    black margarita\n",
              "17                            macadamia maple granola\n",
              "18                              apple walnut pancakes\n",
              "19                            two   bean turkey chili\n",
              "Name: name, dtype: object"
            ]
          },
          "metadata": {},
          "execution_count": 11
        }
      ]
    },
    {
      "cell_type": "code",
      "source": [
        "def get_reco(title, sim_matrix):\n",
        "  idx = indices[title]\n",
        "  print(f'original: {title}')\n",
        "  recos = sim_matrix[idx].argsort()[1:6]\n",
        "  recos = titles.iloc[recos]\n",
        "  print(recos)"
      ],
      "metadata": {
        "id": "MjboFxOPHhDj"
      },
      "execution_count": 6,
      "outputs": []
    },
    {
      "cell_type": "code",
      "execution_count": 12,
      "metadata": {
        "id": "RF8_v22SLxlz",
        "colab": {
          "base_uri": "https://localhost:8080/"
        },
        "outputId": "752e761f-4f83-47f2-a0ee-55429127f52b"
      },
      "outputs": [
        {
          "output_type": "stream",
          "name": "stdout",
          "text": [
            "original: vegetarian kenyan curry\n",
            "28161                 chickpea and potato curry\n",
            "28831                     cheesy bratwurst stew\n",
            "13299    vindaloo  goan style hot and sour pork\n",
            "22205    chickpea spinach curry over brown rice\n",
            "12581                             lentil sambar\n",
            "Name: name, dtype: object\n",
            "\n",
            "original: croissant   salmon  or ham  breakfast casserole\n",
            "16948                savory asparagus croissants\n",
            "10737                            eggs a la russe\n",
            "20620                    brandied peaches   yams\n",
            "19074                        british brunch bake\n",
            "27925    chocolate chunk croissant bread pudding\n",
            "Name: name, dtype: object\n",
            "\n",
            "original: apple walnut pancakes\n",
            "4689           polish apple pancakes\n",
            "27944             pancakes on the go\n",
            "17679       family favorite pancakes\n",
            "19545      sour cream apple pancakes\n",
            "1326     melt in your mouth pancakes\n",
            "Name: name, dtype: object\n"
          ]
        }
      ],
      "source": [
        "titles = subset['name']\n",
        "indices = pd.Series(subset.index, index=subset['name'])\n",
        "\n",
        "title = \"vegetarian kenyan curry\"\n",
        "get_reco(title, cosine_sim)\n",
        "\n",
        "print()\n",
        "title = \"croissant   salmon  or ham  breakfast casserole\"\n",
        "get_reco(title, cosine_sim)\n",
        "\n",
        "print()\n",
        "title = \"apple walnut pancakes\"\n",
        "get_reco(title, cosine_sim)"
      ]
    },
    {
      "cell_type": "code",
      "source": [
        "title = \"vegetarian kenyan curry\"\n",
        "print(\"\\nSteps to cook \", title, \" : \")\n",
        "i = 1\n",
        "for step in eval(subset.loc[subset[\"name\"] == title, \"steps\"].values[0]) :\n",
        "  print(\"       step\", i, \":\", step)\n",
        "  i+=1\n",
        "\n",
        "\n",
        "title = \"chickpea and potato curry\"\n",
        "i=1\n",
        "print(\"\\nSteps to cook \", title, \" : \")\n",
        "for step in eval(subset.loc[subset[\"name\"] == title, \"steps\"].values[0]) :\n",
        "  print(\"       step\", i, \":\", step)\n",
        "  i+=1"
      ],
      "metadata": {
        "colab": {
          "base_uri": "https://localhost:8080/"
        },
        "id": "tfZWkMzU41cz",
        "outputId": "70696e59-46de-448b-a4bc-6e7a4705c795"
      },
      "execution_count": 17,
      "outputs": [
        {
          "output_type": "stream",
          "name": "stdout",
          "text": [
            "\n",
            "Steps to cook  vegetarian kenyan curry  : \n",
            "       step 1 : pre-heat oven to 350 degrees\n",
            "       step 2 : in a large , heavy skillet or pot , brown the onions in moderately hot oil along with the cumin seeds and mustard seeds\n",
            "       step 3 : watch out for popping mustard seeds !\n",
            "       step 4 : add the potato pieces , and stir to coat each piece with the spices\n",
            "       step 5 : now add the remaining spices and continue to stir for several minutes\n",
            "       step 6 : thin the tomato paste with about 2 / 3 cup of water\n",
            "       step 7 : stir into the pot\n",
            "       step 8 : add vegetables , one at a time , cooking for a minute or so between each addition , and put in the chickpeas last\n",
            "       step 9 : you may opt to put the leafy greens in now or just before serving\n",
            "       step 10 : if your pot is not oven proof , transfer mixture to one that is\n",
            "       step 11 : cover with a lid or seal with foil and bake for about 45 minutes , checking after the first 20 minutes\n",
            "       step 12 : the consistency should be rather thick , but add liquid if necessary to prevent burning\n",
            "       step 13 : stir occasionally to prevent sticking\n",
            "       step 14 : you'll want to fish out the cloves and the cinnamon sticks before serving over rice or with flat bread like roti or naan\n",
            "\n",
            "Steps to cook  chickpea and potato curry  : \n",
            "       step 1 : heat the oil in a skillet\n",
            "       step 2 : add the mustard seeds and heat them until they start to pop\n",
            "       step 3 : add the rest of the spices and cook on low for a couple of minutes\n",
            "       step 4 : add the onions , garlic and ginger and saute until the onions are translucent\n",
            "       step 5 : add the potatoes and chickpeas , stir them , and cook a few more minutes , coating the potatoes with the oil and spices\n",
            "       step 6 : add the water , cover the pan / pot , and simmer for about 20 minutes , stirring occasionally\n",
            "       step 7 : when the potatoes are tender but not completely cooked yet , add the tomatoes\n",
            "       step 8 : stir and cover for another 10 to 15 minutes\n"
          ]
        }
      ]
    },
    {
      "cell_type": "code",
      "execution_count": 18,
      "metadata": {
        "id": "omGtTC7KLxlz"
      },
      "outputs": [],
      "source": [
        "del(cosine_sim)"
      ]
    },
    {
      "cell_type": "markdown",
      "source": [
        "# recommendation sur les descriptions"
      ],
      "metadata": {
        "id": "VGWrYOoR8edv"
      }
    },
    {
      "cell_type": "code",
      "source": [
        "raw_recipes = pd.read_csv(\"data/RAW_recipes.csv\")\n",
        "raw_recipes = raw_recipes.loc[~raw_recipes[\"description\"].isna()]\n",
        "print(raw_recipes.shape)"
      ],
      "metadata": {
        "colab": {
          "base_uri": "https://localhost:8080/"
        },
        "id": "sA3FyzHl9S10",
        "outputId": "0c71cad5-7a69-4775-be97-05c40633f509"
      },
      "execution_count": 7,
      "outputs": [
        {
          "output_type": "stream",
          "name": "stdout",
          "text": [
            "(226658, 12)\n"
          ]
        }
      ]
    },
    {
      "cell_type": "code",
      "source": [
        "print(\"Exemple d'une description : \", raw_recipes[\"description\"].values[0])"
      ],
      "metadata": {
        "colab": {
          "base_uri": "https://localhost:8080/"
        },
        "id": "RuWiSBneFjnd",
        "outputId": "ba276001-9daa-4a68-c1c4-cbb8ae253470"
      },
      "execution_count": 9,
      "outputs": [
        {
          "output_type": "stream",
          "name": "stdout",
          "text": [
            "Exemple d'une description :  autumn is my favorite time of year to cook! this recipe \r\n",
            "can be prepared either spicy or sweet, your choice!\r\n",
            "two of my posted mexican-inspired seasoning mix recipes are offered as suggestions.\n"
          ]
        }
      ]
    },
    {
      "cell_type": "code",
      "source": [
        "import random\n",
        "random.seed(1)\n",
        "subset = raw_recipes.iloc[random.sample(range(raw_recipes.shape[0]), k= 40000),:].\\\n",
        "            reset_index(drop=True)\n",
        "del(raw_recipes)\n",
        "\n",
        "titles = subset['name']\n",
        "indices = pd.Series(subset.index, index=subset['name'])"
      ],
      "metadata": {
        "id": "Uk9DFaDt8x8y"
      },
      "execution_count": 10,
      "outputs": []
    },
    {
      "cell_type": "code",
      "source": [
        "subset[\"name\"].head(20)"
      ],
      "metadata": {
        "colab": {
          "base_uri": "https://localhost:8080/"
        },
        "id": "R4eFFF3HGH33",
        "outputId": "7ebffd63-8e35-440f-c80d-1f8f76f8f41c"
      },
      "execution_count": 11,
      "outputs": [
        {
          "output_type": "execute_result",
          "data": {
            "text/plain": [
              "0                                   cardamom applesauce\n",
              "1                               papeete tahitian prawns\n",
              "2     whole wheat peanut butter banana bread with ch...\n",
              "3                tomato lemon chicken breasts with sage\n",
              "4                                 supreme sausage rolls\n",
              "5                        banana raisin oatmeal pancakes\n",
              "6                                 curried indian shrimp\n",
              "7                            buss up shut  paratha roti\n",
              "8     medallions of beef tenderloin with cabernet re...\n",
              "9                          super creamy pumpkin pudding\n",
              "10                        leek and pear english rarebit\n",
              "11                                  low fat potato soup\n",
              "12                           roast beef with vegetables\n",
              "13                        ham  cheese and herb baguette\n",
              "14                               the best brownies ever\n",
              "15    coffee rubbed grilled porterhouse w  garlic or...\n",
              "16                                          blood gravy\n",
              "17               marinated cheese with peppers   olives\n",
              "18                      apple cranberry strudel  german\n",
              "19    wakeman s bourbon brown sugar plank grilled sa...\n",
              "Name: name, dtype: object"
            ]
          },
          "metadata": {},
          "execution_count": 11
        }
      ]
    },
    {
      "cell_type": "code",
      "source": [
        "# Lemmatize the stop words\n",
        "from sklearn.feature_extraction.text import TfidfVectorizer\n",
        "token_stop = tokenizer(' '.join(stop_words))\n",
        "\n",
        "tfidf = TfidfVectorizer(stop_words=token_stop, max_features=4000)\n",
        "tfidf_matrix = tfidf.fit_transform(subset[\"description\"])\n",
        "\n",
        "from sklearn.metrics.pairwise import cosine_distances\n",
        "cosine_sim = cosine_distances(tfidf_matrix)"
      ],
      "metadata": {
        "id": "T58jDraZ8uWE"
      },
      "execution_count": 12,
      "outputs": []
    },
    {
      "cell_type": "code",
      "source": [
        "title = \"curried indian shrimp\"\n",
        "get_reco(title, cosine_sim)\n",
        "\n",
        "print()\n",
        "title = \"ham  cheese and herb baguette\"\n",
        "get_reco(title, cosine_sim)\n",
        "\n",
        "print()\n",
        "title = \"banana raisin oatmeal pancakes\"\n",
        "get_reco(title, cosine_sim)"
      ],
      "metadata": {
        "colab": {
          "base_uri": "https://localhost:8080/"
        },
        "id": "UrReOh228wge",
        "outputId": "57523fc7-9dcc-4e87-bdbc-ffd4f537d67d"
      },
      "execution_count": 17,
      "outputs": [
        {
          "output_type": "stream",
          "name": "stdout",
          "text": [
            "original: curried indian shrimp\n",
            "16346         plantains in coconut milk\n",
            "32431               fragrant rice pilaf\n",
            "1771               curry massalla gravy\n",
            "26194    cumin  mint   coriander yogurt\n",
            "19799      chaat pata aloo  potato dish\n",
            "Name: name, dtype: object\n",
            "\n",
            "original: ham  cheese and herb baguette\n",
            "31710                              quick beer bread\n",
            "5781            classic french bread for breadmaker\n",
            "15319                    family time vegetable soup\n",
            "35393    savory garbanzo bean  meat  loaf  chickpea\n",
            "927                           easy soft breadsticks\n",
            "Name: name, dtype: object\n",
            "\n",
            "original: banana raisin oatmeal pancakes\n",
            "22499        sophisticated southern buttermilk ice cream\n",
            "33600                                farm stand brownies\n",
            "30446    caramelized pears with dulce de leche ice cream\n",
            "26770       five spice spareribs with hoisin honey glaze\n",
            "32162                         jamaican jerk potato salad\n",
            "Name: name, dtype: object\n"
          ]
        }
      ]
    },
    {
      "cell_type": "code",
      "source": [
        "title = \"curried indian shrimp\"\n",
        "print(\"\\nDescription of \", title, \" : \")\n",
        "print(subset.loc[subset[\"name\"] == title, \"description\"].values[0])\n",
        "\n",
        "title = \"plantains in coconut milk\"\n",
        "print(\"\\nDescription of the recommendation : \", title, \" : \")\n",
        "print(subset.loc[subset[\"name\"] == title, \"description\"].values[0])"
      ],
      "metadata": {
        "colab": {
          "base_uri": "https://localhost:8080/"
        },
        "id": "1XWNPONnISlU",
        "outputId": "4496799a-965b-4caf-fc9b-deea8cb430c1"
      },
      "execution_count": 19,
      "outputs": [
        {
          "output_type": "stream",
          "name": "stdout",
          "text": [
            "\n",
            "Description of  curried indian shrimp  : \n",
            "i love curries, this one turns out nicely.\n",
            "\n",
            "Description of the recommendation :  plantains in coconut milk  : \n",
            "this is from kenya.  it could be for dessert or try with curries or fish.\n"
          ]
        }
      ]
    },
    {
      "cell_type": "code",
      "source": [
        "title = \"ham  cheese and herb baguette\"\n",
        "print(\"\\nDescription of \", title, \" : \")\n",
        "print(subset.loc[subset[\"name\"] == title, \"description\"].values[0])\n",
        "\n",
        "title = \"quick beer bread\"\n",
        "print(\"\\nDescription of the recommendation : \", title, \" : \")\n",
        "print(subset.loc[subset[\"name\"] == title, \"description\"].values[0])"
      ],
      "metadata": {
        "colab": {
          "base_uri": "https://localhost:8080/"
        },
        "id": "956hXWriISig",
        "outputId": "959bd133-2ba1-4436-9d2e-1763828abdd3"
      },
      "execution_count": 20,
      "outputs": [
        {
          "output_type": "stream",
          "name": "stdout",
          "text": [
            "\n",
            "Description of  ham  cheese and herb baguette  : \n",
            "this french style loaf can be made from start to finish in a little over an hour.  it's a hearty loaf that is delicious sliced and lightly toasted and served with soups, stews, and salads\n",
            "\n",
            "Description of the recommendation :  quick beer bread  : \n",
            "this recipe makes up quick as a wink and is very moist. it's great sliced and toasted or served pipping hot  with soups and salads. enjoy.\n"
          ]
        }
      ]
    },
    {
      "cell_type": "code",
      "source": [
        "title = \"banana raisin oatmeal pancakes\"\n",
        "print(\"\\nDescription of \", title, \" : \")\n",
        "print(subset.loc[subset[\"name\"] == title, \"description\"].values[0])\n",
        "\n",
        "title = \"sophisticated southern buttermilk ice cream\"\n",
        "print(\"\\nDescription of the recommendation : \", title, \" : \")\n",
        "print(subset.loc[subset[\"name\"] == title, \"description\"].values[0])"
      ],
      "metadata": {
        "colab": {
          "base_uri": "https://localhost:8080/"
        },
        "id": "uwgJM-w6ItpW",
        "outputId": "6d67e96a-c359-4cff-e5b5-52e72c37bf18"
      },
      "execution_count": 21,
      "outputs": [
        {
          "output_type": "stream",
          "name": "stdout",
          "text": [
            "\n",
            "Description of  banana raisin oatmeal pancakes  : \n",
            "these are great with maple syrup, honey, marmalade, or even cottage cheese! packed with wholesome fruity flavor. recipe is from bon appetit's february 2004 issue.\n",
            "\n",
            "Description of the recommendation :  sophisticated southern buttermilk ice cream  : \n",
            "bon appetit, february 1994.\n"
          ]
        }
      ]
    },
    {
      "cell_type": "code",
      "source": [],
      "metadata": {
        "id": "2mjMa7GJItmL"
      },
      "execution_count": null,
      "outputs": []
    },
    {
      "cell_type": "code",
      "source": [],
      "metadata": {
        "id": "3eWVZcAjISfU"
      },
      "execution_count": null,
      "outputs": []
    },
    {
      "cell_type": "code",
      "source": [
        "del(cosine_sim)"
      ],
      "metadata": {
        "id": "MUKKg1RS9i9L"
      },
      "execution_count": 22,
      "outputs": []
    },
    {
      "cell_type": "code",
      "source": [],
      "metadata": {
        "id": "Dv9swif3FxOU"
      },
      "execution_count": null,
      "outputs": []
    }
  ],
  "metadata": {
    "accelerator": "GPU",
    "colab": {
      "machine_shape": "hm",
      "provenance": []
    },
    "kernelspec": {
      "display_name": "Python 3",
      "name": "python3"
    },
    "language_info": {
      "codemirror_mode": {
        "name": "ipython",
        "version": 3
      },
      "file_extension": ".py",
      "mimetype": "text/x-python",
      "name": "python",
      "nbconvert_exporter": "python",
      "pygments_lexer": "ipython3",
      "version": "3.10.11"
    }
  },
  "nbformat": 4,
  "nbformat_minor": 0
}