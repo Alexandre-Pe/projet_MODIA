{
  "cells": [
    {
      "cell_type": "code",
      "execution_count": 3,
      "metadata": {
        "colab": {
          "base_uri": "https://localhost:8080/"
        },
        "id": "iFJ0fJxzMCHW",
        "outputId": "5edbfeed-04c9-4cad-89a1-2ad08b57dd2f"
      },
      "outputs": [
        {
          "name": "stdout",
          "output_type": "stream",
          "text": [
            "Mounted at /content/drive\n"
          ]
        }
      ],
      "source": [
        "from google.colab import drive\n",
        "drive.mount('/content/drive', force_remount=True)"
      ]
    },
    {
      "cell_type": "code",
      "execution_count": 2,
      "metadata": {
        "colab": {
          "base_uri": "https://localhost:8080/"
        },
        "id": "iulj9UqBMD3R",
        "outputId": "79e48458-1822-43aa-d479-308e5bcbcb4c"
      },
      "outputs": [
        {
          "name": "stdout",
          "output_type": "stream",
          "text": [
            "/content/drive/MyDrive/AI_Framework\n"
          ]
        }
      ],
      "source": [
        "%cd /content/drive/MyDrive/AI_Framework"
      ]
    },
    {
      "cell_type": "code",
      "execution_count": 1,
      "metadata": {
        "id": "o2xuZwhnLxlY"
      },
      "outputs": [],
      "source": [
        "import pandas as pd\n",
        "import numpy as np\n",
        "import matplotlib.pyplot as plt\n",
        "import seaborn as sns"
      ]
    },
    {
      "cell_type": "code",
      "execution_count": 2,
      "metadata": {
        "id": "nVTdsg_DLxli"
      },
      "outputs": [],
      "source": [
        "# interactions_test = pd.read_csv(\"data/interactions_test.csv\")\n",
        "# interactions_train = pd.read_csv(\"data/interactions_train.csv\")\n",
        "# raw_interactions = pd.read_csv(\"data/RAW_interactions.csv\")\n",
        "raw_recipes = pd.read_csv(\"data/RAW_recipes.csv\")"
      ]
    },
    {
      "attachments": {},
      "cell_type": "markdown",
      "metadata": {
        "id": "sfWPOIG0Lxll"
      },
      "source": [
        "Recommendations :\n",
        "\n",
        "- popularité\n",
        "- étapes de la recette (steps)\n",
        "- description de la recette"
      ]
    },
    {
      "cell_type": "code",
      "execution_count": 3,
      "metadata": {
        "colab": {
          "base_uri": "https://localhost:8080/",
          "height": 462
        },
        "id": "GWnIFNPHLxlp",
        "outputId": "a30a9602-0715-4924-e800-48f8f5e10d71"
      },
      "outputs": [
        {
          "data": {
            "image/png": "[encoded data removed]",
            "text/plain": [
              "<Figure size 1200x600 with 1 Axes>"
            ]
          },
          "metadata": {},
          "output_type": "display_data"
        }
      ],
      "source": [
        "raw_recipes[\"year\"] = raw_recipes[\"submitted\"].str.split(\"-\", expand = True)[0]\n",
        "raw_recipes[\"year\"] = raw_recipes[\"year\"].fillna(-1).astype(int).replace(-1, np.nan)\n",
        "\n",
        "plt.figure(figsize=(12,6))\n",
        "sns.histplot(data=raw_recipes, x=\"year\", bins = 15)\n",
        "plt.title(\"Nombre de recettes par an\")\n",
        "plt.show()"
      ]
    },
    {
      "cell_type": "code",
      "execution_count": 4,
      "metadata": {
        "id": "VDQ-ICY7SWh3"
      },
      "outputs": [],
      "source": [
        "import random\n",
        "random.seed(1)\n",
        "subset = raw_recipes.iloc[random.sample(range(raw_recipes.shape[0]), k= 30000, ),:].reset_index(drop=True)"
      ]
    },
    {
      "cell_type": "code",
      "execution_count": 5,
      "metadata": {
        "id": "6jxnYEVzVhiM"
      },
      "outputs": [],
      "source": [
        "del(raw_recipes)"
      ]
    },
    {
      "attachments": {},
      "cell_type": "markdown",
      "metadata": {
        "id": "XSXQqfEVLxlu"
      },
      "source": [
        "# Recommendation par les étapes de la recette :"
      ]
    },
    {
      "cell_type": "code",
      "execution_count": 6,
      "metadata": {
        "colab": {
          "base_uri": "https://localhost:8080/"
        },
        "id": "OZW80fqALxlv",
        "outputId": "1776cefc-6750-46ce-d3e8-6b434969b6bf"
      },
      "outputs": [
        {
          "data": {
            "text/plain": [
              "0        1) after your coffee has brewed , combine the ...\n",
              "1        in a blender , combine the peaches , milk , or...\n",
              "2        pre-heat oven to 350 degrees in a large , heav...\n",
              "3        combine the flour , salt , hot water and short...\n",
              "4        put chicken and cream cheese in a pot on stove...\n",
              "                               ...                        \n",
              "29995    halve the peppers , remove the ribs and seeds ...\n",
              "29996    preheat oven to 400 degrees mix all of the ing...\n",
              "29997    place chicken in a resealable plastic bag set ...\n",
              "29998    preheat oven to 350 degrees f heat half the bu...\n",
              "29999    preheat oven to 350 degrees fahrenheit with a ...\n",
              "Name: all_steps, Length: 30000, dtype: object"
            ]
          },
          "execution_count": 6,
          "metadata": {},
          "output_type": "execute_result"
        }
      ],
      "source": [
        "subset[\"all_steps\"] = subset[\"steps\"].apply(lambda x : ' '.join(eval(x)))\n",
        "subset[\"all_steps\"]"
      ]
    },
    {
      "cell_type": "code",
      "execution_count": 7,
      "metadata": {
        "colab": {
          "base_uri": "https://localhost:8080/"
        },
        "id": "1tz6ea9oAvlw",
        "outputId": "afd7a121-eb18-4c6c-b837-85726d30a20f"
      },
      "outputs": [
        {
          "name": "stderr",
          "output_type": "stream",
          "text": [
            "[nltk_data] Downloading package punkt to\n",
            "[nltk_data]     C:\\Users\\joann\\AppData\\Roaming\\nltk_data...\n",
            "[nltk_data]   Package punkt is already up-to-date!\n",
            "[nltk_data] Downloading package stopwords to\n",
            "[nltk_data]     C:\\Users\\joann\\AppData\\Roaming\\nltk_data...\n",
            "[nltk_data]   Package stopwords is already up-to-date!\n"
          ]
        }
      ],
      "source": [
        "from nltk import word_tokenize\n",
        "from nltk.stem import SnowballStemmer\n",
        "import nltk\n",
        "from nltk.corpus import stopwords\n",
        "\n",
        "nltk.download('punkt')\n",
        "nltk.download('stopwords')\n",
        "# Download stopwords list\n",
        "stop_words = set(stopwords.words('english'))\n",
        "\n",
        "# Interface lemma tokenizer from nltk with sklearn\n",
        "class StemTokenizer:\n",
        "    ignore_tokens = [',', '.', ';', ':', '\"', '``', \"''\", '`']\n",
        "    def __init__(self):\n",
        "        self.stemmer = SnowballStemmer('english')\n",
        "    def __call__(self, doc):\n",
        "        return [self.stemmer.stem(t) for t in word_tokenize(doc) if t not in self.ignore_tokens]\n",
        "\n",
        "tokenizer=StemTokenizer()"
      ]
    },
    {
      "cell_type": "code",
      "execution_count": 10,
      "metadata": {},
      "outputs": [
        {
          "name": "stdout",
          "output_type": "stream",
          "text": [
            "1) after your coffee has brewed , combine the sugar & milk and heat it in your microwave for 2 minutes at the highest setting 2) next , whip the heated milk / sugar mix in your blender for about one minute until it's a fluffy foam 3) fill your cup two thirds full with the coffee and top it off with your heated froth\n",
            "['1', ')', 'after', 'your', 'coffe', 'has', 'brew', 'combin', 'the', 'sugar', '&', 'milk', 'and', 'heat', 'it', 'in', 'your', 'microwav', 'for', '2', 'minut', 'at', 'the', 'highest', 'set', '2', ')', 'next', 'whip', 'the', 'heat', 'milk', '/', 'sugar', 'mix', 'in', 'your', 'blender', 'for', 'about', 'one', 'minut', 'until', 'it', \"'s\", 'a', 'fluffi', 'foam', '3', ')', 'fill', 'your', 'cup', 'two', 'third', 'full', 'with', 'the', 'coffe', 'and', 'top', 'it', 'off', 'with', 'your', 'heat', 'froth']\n"
          ]
        }
      ],
      "source": [
        "s = subset['all_steps'][0]\n",
        "print(s)\n",
        "print(tokenizer(s))"
      ]
    },
    {
      "cell_type": "code",
      "execution_count": 8,
      "metadata": {
        "id": "GA4XKHeQLxlx"
      },
      "outputs": [],
      "source": [
        "# Lemmatize the stop words\n",
        "from sklearn.feature_extraction.text import TfidfVectorizer\n",
        "token_stop = tokenizer(' '.join(stop_words))\n",
        "\n",
        "tfidf = TfidfVectorizer(stop_words=token_stop, max_features=4000)\n",
        "tfidf_matrix = tfidf.fit_transform(subset[\"all_steps\"])\n",
        "\n",
        "# from sklearn.metrics.pairwise import cosine_distances\n",
        "# cosine_sim = cosine_distances(tfidf_matrix)\n",
        "\n",
        "# np.save(\"cosine_sim.npy\", cosine_sim)\n",
        "# cosine_sim = np.load(\"cosine_sim.npy\")"
      ]
    },
    {
      "cell_type": "code",
      "execution_count": 9,
      "metadata": {},
      "outputs": [
        {
          "data": {
            "text/plain": [
              "<30000x4000 sparse matrix of type '<class 'numpy.float64'>'\n",
              "\twith 1373601 stored elements in Compressed Sparse Row format>"
            ]
          },
          "execution_count": 9,
          "metadata": {},
          "output_type": "execute_result"
        }
      ],
      "source": [
        "tfidf_matrix"
      ]
    },
    {
      "cell_type": "code",
      "execution_count": 11,
      "metadata": {
        "colab": {
          "base_uri": "https://localhost:8080/"
        },
        "id": "7l9VTnfKWwSI",
        "outputId": "cce1985c-af4d-469b-b322-ba3148ff89c1"
      },
      "outputs": [
        {
          "data": {
            "text/plain": [
              "0      cappuccino recipe without an expensive machine\n",
              "1                              orange peach smoothies\n",
              "2                             vegetarian kenyan curry\n",
              "3          tgi friday s pot stickers w  dipping sauce\n",
              "4                  stove top buffalo chicken wing dip\n",
              "5                        banana date walnut breakfast\n",
              "6     croissant   salmon  or ham  breakfast casserole\n",
              "7                              bubbly cranberry punch\n",
              "8                                   maple baked beets\n",
              "9                                     steamed mussels\n",
              "10                       king prawns in swahili sauce\n",
              "11                 light salad dressing with shallots\n",
              "12                  raspberry cheesecake cookie pizza\n",
              "13                           grilled pork   pineapple\n",
              "14               sweet ramadan dumplings   lokmit ady\n",
              "15                            cleaning a cuttingboard\n",
              "16                                    black margarita\n",
              "17                            macadamia maple granola\n",
              "18                              apple walnut pancakes\n",
              "19                            two   bean turkey chili\n",
              "Name: name, dtype: object"
            ]
          },
          "execution_count": 11,
          "metadata": {},
          "output_type": "execute_result"
        }
      ],
      "source": [
        "subset[\"name\"].head(20)"
      ]
    },
    {
      "cell_type": "code",
      "execution_count": 6,
      "metadata": {
        "id": "MjboFxOPHhDj"
      },
      "outputs": [],
      "source": [
        "def get_reco(title, sim_matrix):\n",
        "  idx = indices[title]\n",
        "  print(f'original: {title}')\n",
        "  recos = sim_matrix[idx].argsort()[1:6]\n",
        "  recos = titles.iloc[recos]\n",
        "  print(recos)"
      ]
    },
    {
      "cell_type": "code",
      "execution_count": 12,
      "metadata": {
        "colab": {
          "base_uri": "https://localhost:8080/"
        },
        "id": "RF8_v22SLxlz",
        "outputId": "752e761f-4f83-47f2-a0ee-55429127f52b"
      },
      "outputs": [
        {
          "name": "stdout",
          "output_type": "stream",
          "text": [
            "original: vegetarian kenyan curry\n",
            "28161                 chickpea and potato curry\n",
            "28831                     cheesy bratwurst stew\n",
            "13299    vindaloo  goan style hot and sour pork\n",
            "22205    chickpea spinach curry over brown rice\n",
            "12581                             lentil sambar\n",
            "Name: name, dtype: object\n",
            "\n",
            "original: croissant   salmon  or ham  breakfast casserole\n",
            "16948                savory asparagus croissants\n",
            "10737                            eggs a la russe\n",
            "20620                    brandied peaches   yams\n",
            "19074                        british brunch bake\n",
            "27925    chocolate chunk croissant bread pudding\n",
            "Name: name, dtype: object\n",
            "\n",
            "original: apple walnut pancakes\n",
            "4689           polish apple pancakes\n",
            "27944             pancakes on the go\n",
            "17679       family favorite pancakes\n",
            "19545      sour cream apple pancakes\n",
            "1326     melt in your mouth pancakes\n",
            "Name: name, dtype: object\n"
          ]
        }
      ],
      "source": [
        "titles = subset['name']\n",
        "indices = pd.Series(subset.index, index=subset['name'])\n",
        "\n",
        "title = \"vegetarian kenyan curry\"\n",
        "get_reco(title, cosine_sim)\n",
        "\n",
        "print()\n",
        "title = \"croissant   salmon  or ham  breakfast casserole\"\n",
        "get_reco(title, cosine_sim)\n",
        "\n",
        "print()\n",
        "title = \"apple walnut pancakes\"\n",
        "get_reco(title, cosine_sim)"
      ]
    },
    {
      "cell_type": "code",
      "execution_count": 20,
      "metadata": {},
      "outputs": [
        {
          "name": "stdout",
          "output_type": "stream",
          "text": [
            "pre-heat oven to 350 degrees in a large , heavy skillet or pot , brown the onions in moderately hot oil along with the cumin seeds and mustard seeds watch out for popping mustard seeds ! add the potato pieces , and stir to coat each piece with the spices now add the remaining spices and continue to stir for several minutes thin the tomato paste with about 2 / 3 cup of water stir into the pot add vegetables , one at a time , cooking for a minute or so between each addition , and put in the chickpeas last you may opt to put the leafy greens in now or just before serving if your pot is not oven proof , transfer mixture to one that is cover with a lid or seal with foil and bake for about 45 minutes , checking after the first 20 minutes the consistency should be rather thick , but add liquid if necessary to prevent burning stir occasionally to prevent sticking you'll want to fish out the cloves and the cinnamon sticks before serving over rice or with flat bread like roti or naan\n",
            "['pre-heat', 'oven', 'to', '350', 'degre', 'in', 'a', 'larg', 'heavi', 'skillet', 'or', 'pot', 'brown', 'the', 'onion', 'in', 'moder', 'hot', 'oil', 'along', 'with', 'the', 'cumin', 'seed', 'and', 'mustard', 'seed', 'watch', 'out', 'for', 'pop', 'mustard', 'seed', '!', 'add', 'the', 'potato', 'piec', 'and', 'stir', 'to', 'coat', 'each', 'piec', 'with', 'the', 'spice', 'now', 'add', 'the', 'remain', 'spice', 'and', 'continu', 'to', 'stir', 'for', 'sever', 'minut', 'thin', 'the', 'tomato', 'past', 'with', 'about', '2', '/', '3', 'cup', 'of', 'water', 'stir', 'into', 'the', 'pot', 'add', 'veget', 'one', 'at', 'a', 'time', 'cook', 'for', 'a', 'minut', 'or', 'so', 'between', 'each', 'addit', 'and', 'put', 'in', 'the', 'chickpea', 'last', 'you', 'may', 'opt', 'to', 'put', 'the', 'leafi', 'green', 'in', 'now', 'or', 'just', 'befor', 'serv', 'if', 'your', 'pot', 'is', 'not', 'oven', 'proof', 'transfer', 'mixtur', 'to', 'one', 'that', 'is', 'cover', 'with', 'a', 'lid', 'or', 'seal', 'with', 'foil', 'and', 'bake', 'for', 'about', '45', 'minut', 'check', 'after', 'the', 'first', '20', 'minut', 'the', 'consist', 'should', 'be', 'rather', 'thick', 'but', 'add', 'liquid', 'if', 'necessari', 'to', 'prevent', 'burn', 'stir', 'occasion', 'to', 'prevent', 'stick', 'you', 'll', 'want', 'to', 'fish', 'out', 'the', 'clove', 'and', 'the', 'cinnamon', 'stick', 'befor', 'serv', 'over', 'rice', 'or', 'with', 'flat', 'bread', 'like', 'roti', 'or', 'naan']\n",
            "heat the oil in a skillet add the mustard seeds and heat them until they start to pop add the rest of the spices and cook on low for a couple of minutes add the onions , garlic and ginger and saute until the onions are translucent add the potatoes and chickpeas , stir them , and cook a few more minutes , coating the potatoes with the oil and spices add the water , cover the pan / pot , and simmer for about 20 minutes , stirring occasionally when the potatoes are tender but not completely cooked yet , add the tomatoes stir and cover for another 10 to 15 minutes\n",
            "['heat', 'the', 'oil', 'in', 'a', 'skillet', 'add', 'the', 'mustard', 'seed', 'and', 'heat', 'them', 'until', 'they', 'start', 'to', 'pop', 'add', 'the', 'rest', 'of', 'the', 'spice', 'and', 'cook', 'on', 'low', 'for', 'a', 'coupl', 'of', 'minut', 'add', 'the', 'onion', 'garlic', 'and', 'ginger', 'and', 'saut', 'until', 'the', 'onion', 'are', 'transluc', 'add', 'the', 'potato', 'and', 'chickpea', 'stir', 'them', 'and', 'cook', 'a', 'few', 'more', 'minut', 'coat', 'the', 'potato', 'with', 'the', 'oil', 'and', 'spice', 'add', 'the', 'water', 'cover', 'the', 'pan', '/', 'pot', 'and', 'simmer', 'for', 'about', '20', 'minut', 'stir', 'occasion', 'when', 'the', 'potato', 'are', 'tender', 'but', 'not', 'complet', 'cook', 'yet', 'add', 'the', 'tomato', 'stir', 'and', 'cover', 'for', 'anoth', '10', 'to', '15', 'minut']\n"
          ]
        }
      ],
      "source": [
        "title = \"vegetarian kenyan curry\"\n",
        "s = subset.loc[subset[\"name\"] == title, \"all_steps\"].values[0]\n",
        "print(s)\n",
        "print(tokenizer(s))\n",
        "\n",
        "title = \"chickpea and potato curry\"\n",
        "s = subset.loc[subset[\"name\"] == title, \"all_steps\"].values[0]\n",
        "print(s)\n",
        "print(tokenizer(s))"
      ]
    },
    {
      "cell_type": "code",
      "execution_count": 17,
      "metadata": {
        "colab": {
          "base_uri": "https://localhost:8080/"
        },
        "id": "tfZWkMzU41cz",
        "outputId": "70696e59-46de-448b-a4bc-6e7a4705c795"
      },
      "outputs": [
        {
          "name": "stdout",
          "output_type": "stream",
          "text": [
            "\n",
            "Steps to cook  vegetarian kenyan curry  : \n",
            "       step 1 : pre-heat oven to 350 degrees\n",
            "       step 2 : in a large , heavy skillet or pot , brown the onions in moderately hot oil along with the cumin seeds and mustard seeds\n",
            "       step 3 : watch out for popping mustard seeds !\n",
            "       step 4 : add the potato pieces , and stir to coat each piece with the spices\n",
            "       step 5 : now add the remaining spices and continue to stir for several minutes\n",
            "       step 6 : thin the tomato paste with about 2 / 3 cup of water\n",
            "       step 7 : stir into the pot\n",
            "       step 8 : add vegetables , one at a time , cooking for a minute or so between each addition , and put in the chickpeas last\n",
            "       step 9 : you may opt to put the leafy greens in now or just before serving\n",
            "       step 10 : if your pot is not oven proof , transfer mixture to one that is\n",
            "       step 11 : cover with a lid or seal with foil and bake for about 45 minutes , checking after the first 20 minutes\n",
            "       step 12 : the consistency should be rather thick , but add liquid if necessary to prevent burning\n",
            "       step 13 : stir occasionally to prevent sticking\n",
            "       step 14 : you'll want to fish out the cloves and the cinnamon sticks before serving over rice or with flat bread like roti or naan\n",
            "\n",
            "Steps to cook  chickpea and potato curry  : \n",
            "       step 1 : heat the oil in a skillet\n",
            "       step 2 : add the mustard seeds and heat them until they start to pop\n",
            "       step 3 : add the rest of the spices and cook on low for a couple of minutes\n",
            "       step 4 : add the onions , garlic and ginger and saute until the onions are translucent\n",
            "       step 5 : add the potatoes and chickpeas , stir them , and cook a few more minutes , coating the potatoes with the oil and spices\n",
            "       step 6 : add the water , cover the pan / pot , and simmer for about 20 minutes , stirring occasionally\n",
            "       step 7 : when the potatoes are tender but not completely cooked yet , add the tomatoes\n",
            "       step 8 : stir and cover for another 10 to 15 minutes\n"
          ]
        }
      ],
      "source": [
        "title = \"vegetarian kenyan curry\"\n",
        "print(\"\\nSteps to cook \", title, \" : \")\n",
        "\n",
        "i = 1\n",
        "for step in eval(subset.loc[subset[\"name\"] == title, \"steps\"].values[0]) :\n",
        "  print(\"       step\", i, \":\", step)\n",
        "  i+=1\n",
        "\n",
        "\n",
        "title = \"chickpea and potato curry\"\n",
        "i=1\n",
        "print(\"\\nSteps to cook \", title, \" : \")\n",
        "for step in eval(subset.loc[subset[\"name\"] == title, \"steps\"].values[0]) :\n",
        "  print(\"       step\", i, \":\", step)\n",
        "  i+=1"
      ]
    },
    {
      "cell_type": "code",
      "execution_count": 18,
      "metadata": {
        "id": "omGtTC7KLxlz"
      },
      "outputs": [],
      "source": [
        "del(cosine_sim)"
      ]
    },
    {
      "cell_type": "code",
      "execution_count": 21,
      "metadata": {},
      "outputs": [
        {
          "name": "stdout",
          "output_type": "stream",
          "text": [
            "in a large bowl , combine the flours , brown sugar , baking powder and salt combine the egg whites , egg , milk and oil add to dry ingredients just until moistened fold in apple and walnuts pour batter by 1 / 4 cupfuls onto a hot griddle coated with cooking spray turn when bubbles form on top cook until the second side is golden brown serve with syrup\n",
            "['in', 'a', 'larg', 'bowl', 'combin', 'the', 'flour', 'brown', 'sugar', 'bake', 'powder', 'and', 'salt', 'combin', 'the', 'egg', 'white', 'egg', 'milk', 'and', 'oil', 'add', 'to', 'dri', 'ingredi', 'just', 'until', 'moisten', 'fold', 'in', 'appl', 'and', 'walnut', 'pour', 'batter', 'by', '1', '/', '4', 'cup', 'onto', 'a', 'hot', 'griddl', 'coat', 'with', 'cook', 'spray', 'turn', 'when', 'bubbl', 'form', 'on', 'top', 'cook', 'until', 'the', 'second', 'side', 'is', 'golden', 'brown', 'serv', 'with', 'syrup']\n",
            "in a a bowl , combine flour , sugar , salt and spice in another bowl , lightly beat egg add milk and oil add to dry ingredients and stir until smooth fold in apples pour batter by 1 / 2 cupfuls onto a lightly greased hot griddle and spread to form 5 inch circles turn when bubbles form cook the second side until golden brown and apples are tender sprinkle with confectioners sugar\n",
            "['in', 'a', 'a', 'bowl', 'combin', 'flour', 'sugar', 'salt', 'and', 'spice', 'in', 'anoth', 'bowl', 'light', 'beat', 'egg', 'add', 'milk', 'and', 'oil', 'add', 'to', 'dri', 'ingredi', 'and', 'stir', 'until', 'smooth', 'fold', 'in', 'appl', 'pour', 'batter', 'by', '1', '/', '2', 'cup', 'onto', 'a', 'light', 'greas', 'hot', 'griddl', 'and', 'spread', 'to', 'form', '5', 'inch', 'circl', 'turn', 'when', 'bubbl', 'form', 'cook', 'the', 'second', 'side', 'until', 'golden', 'brown', 'and', 'appl', 'are', 'tender', 'sprinkl', 'with', 'confection', 'sugar']\n"
          ]
        }
      ],
      "source": [
        "title = \"apple walnut pancakes\"\n",
        "s = subset.loc[subset[\"name\"] == title, \"all_steps\"].values[0]\n",
        "print(s)\n",
        "print(tokenizer(s))\n",
        "\n",
        "title = \"polish apple pancakes\"\n",
        "s = subset.loc[subset[\"name\"] == title, \"all_steps\"].values[0]\n",
        "print(s)\n",
        "print(tokenizer(s))"
      ]
    },
    {
      "cell_type": "code",
      "execution_count": 12,
      "metadata": {},
      "outputs": [
        {
          "name": "stdout",
          "output_type": "stream",
          "text": [
            "\n",
            "Steps to cook  apple walnut pancakes  : \n",
            "       step 1 : in a large bowl , combine the flours , brown sugar , baking powder and salt\n",
            "       step 2 : combine the egg whites , egg , milk and oil\n",
            "       step 3 : add to dry ingredients just until moistened\n",
            "       step 4 : fold in apple and walnuts\n",
            "       step 5 : pour batter by 1 / 4 cupfuls onto a hot griddle coated with cooking spray\n",
            "       step 6 : turn when bubbles form on top\n",
            "       step 7 : cook until the second side is golden brown\n",
            "       step 8 : serve with syrup\n",
            "\n",
            "Steps to cook  polish apple pancakes  : \n",
            "       step 1 : in a a bowl , combine flour , sugar , salt and spice\n",
            "       step 2 : in another bowl , lightly beat egg\n",
            "       step 3 : add milk and oil\n",
            "       step 4 : add to dry ingredients and stir until smooth\n",
            "       step 5 : fold in apples\n",
            "       step 6 : pour batter by 1 / 2 cupfuls onto a lightly greased hot griddle and spread to form 5 inch circles\n",
            "       step 7 : turn when bubbles form\n",
            "       step 8 : cook the second side until golden brown and apples are tender\n",
            "       step 9 : sprinkle with confectioners sugar\n"
          ]
        }
      ],
      "source": [
        "title = \"apple walnut pancakes\"\n",
        "print(\"\\nSteps to cook \", title, \" : \")\n",
        "i = 1\n",
        "for step in eval(subset.loc[subset[\"name\"] == title, \"steps\"].values[0]) :\n",
        "  print(\"       step\", i, \":\", step)\n",
        "  i+=1\n",
        "\n",
        "title = \"polish apple pancakes\"\n",
        "print(\"\\nSteps to cook \", title, \" : \")\n",
        "i = 1\n",
        "for step in eval(subset.loc[subset[\"name\"] == title, \"steps\"].values[0]) :\n",
        "  print(\"       step\", i, \":\", step)\n",
        "  i+=1"
      ]
    },
    {
      "attachments": {},
      "cell_type": "markdown",
      "metadata": {
        "id": "VGWrYOoR8edv"
      },
      "source": [
        "# recommendation sur les descriptions"
      ]
    },
    {
      "cell_type": "code",
      "execution_count": 7,
      "metadata": {
        "colab": {
          "base_uri": "https://localhost:8080/"
        },
        "id": "sA3FyzHl9S10",
        "outputId": "0c71cad5-7a69-4775-be97-05c40633f509"
      },
      "outputs": [
        {
          "name": "stdout",
          "output_type": "stream",
          "text": [
            "(226658, 12)\n"
          ]
        }
      ],
      "source": [
        "raw_recipes = pd.read_csv(\"data/RAW_recipes.csv\")\n",
        "raw_recipes = raw_recipes.loc[~raw_recipes[\"description\"].isna()]\n",
        "print(raw_recipes.shape)"
      ]
    },
    {
      "cell_type": "code",
      "execution_count": 9,
      "metadata": {
        "colab": {
          "base_uri": "https://localhost:8080/"
        },
        "id": "RuWiSBneFjnd",
        "outputId": "ba276001-9daa-4a68-c1c4-cbb8ae253470"
      },
      "outputs": [
        {
          "name": "stdout",
          "output_type": "stream",
          "text": [
            "Exemple d'une description :  autumn is my favorite time of year to cook! this recipe \r\n",
            "can be prepared either spicy or sweet, your choice!\r\n",
            "two of my posted mexican-inspired seasoning mix recipes are offered as suggestions.\n"
          ]
        }
      ],
      "source": [
        "print(\"Exemple d'une description : \", raw_recipes[\"description\"].values[0])"
      ]
    },
    {
      "cell_type": "code",
      "execution_count": 10,
      "metadata": {
        "id": "Uk9DFaDt8x8y"
      },
      "outputs": [],
      "source": [
        "import random\n",
        "random.seed(1)\n",
        "subset = raw_recipes.iloc[random.sample(range(raw_recipes.shape[0]), k= 40000),:].\\\n",
        "            reset_index(drop=True)\n",
        "del(raw_recipes)\n",
        "\n",
        "titles = subset['name']\n",
        "indices = pd.Series(subset.index, index=subset['name'])"
      ]
    },
    {
      "cell_type": "code",
      "execution_count": 11,
      "metadata": {
        "colab": {
          "base_uri": "https://localhost:8080/"
        },
        "id": "R4eFFF3HGH33",
        "outputId": "7ebffd63-8e35-440f-c80d-1f8f76f8f41c"
      },
      "outputs": [
        {
          "data": {
            "text/plain": [
              "0                                   cardamom applesauce\n",
              "1                               papeete tahitian prawns\n",
              "2     whole wheat peanut butter banana bread with ch...\n",
              "3                tomato lemon chicken breasts with sage\n",
              "4                                 supreme sausage rolls\n",
              "5                        banana raisin oatmeal pancakes\n",
              "6                                 curried indian shrimp\n",
              "7                            buss up shut  paratha roti\n",
              "8     medallions of beef tenderloin with cabernet re...\n",
              "9                          super creamy pumpkin pudding\n",
              "10                        leek and pear english rarebit\n",
              "11                                  low fat potato soup\n",
              "12                           roast beef with vegetables\n",
              "13                        ham  cheese and herb baguette\n",
              "14                               the best brownies ever\n",
              "15    coffee rubbed grilled porterhouse w  garlic or...\n",
              "16                                          blood gravy\n",
              "17               marinated cheese with peppers   olives\n",
              "18                      apple cranberry strudel  german\n",
              "19    wakeman s bourbon brown sugar plank grilled sa...\n",
              "Name: name, dtype: object"
            ]
          },
          "execution_count": 11,
          "metadata": {},
          "output_type": "execute_result"
        }
      ],
      "source": [
        "subset[\"name\"].head(20)"
      ]
    },
    {
      "cell_type": "code",
      "execution_count": 12,
      "metadata": {
        "id": "T58jDraZ8uWE"
      },
      "outputs": [],
      "source": [
        "# Lemmatize the stop words\n",
        "from sklearn.feature_extraction.text import TfidfVectorizer\n",
        "token_stop = tokenizer(' '.join(stop_words))\n",
        "\n",
        "tfidf = TfidfVectorizer(stop_words=token_stop, max_features=4000)\n",
        "tfidf_matrix = tfidf.fit_transform(subset[\"description\"])\n",
        "\n",
        "from sklearn.metrics.pairwise import cosine_distances\n",
        "cosine_sim = cosine_distances(tfidf_matrix)"
      ]
    },
    {
      "cell_type": "code",
      "execution_count": 17,
      "metadata": {
        "colab": {
          "base_uri": "https://localhost:8080/"
        },
        "id": "UrReOh228wge",
        "outputId": "57523fc7-9dcc-4e87-bdbc-ffd4f537d67d"
      },
      "outputs": [
        {
          "name": "stdout",
          "output_type": "stream",
          "text": [
            "original: curried indian shrimp\n",
            "16346         plantains in coconut milk\n",
            "32431               fragrant rice pilaf\n",
            "1771               curry massalla gravy\n",
            "26194    cumin  mint   coriander yogurt\n",
            "19799      chaat pata aloo  potato dish\n",
            "Name: name, dtype: object\n",
            "\n",
            "original: ham  cheese and herb baguette\n",
            "31710                              quick beer bread\n",
            "5781            classic french bread for breadmaker\n",
            "15319                    family time vegetable soup\n",
            "35393    savory garbanzo bean  meat  loaf  chickpea\n",
            "927                           easy soft breadsticks\n",
            "Name: name, dtype: object\n",
            "\n",
            "original: banana raisin oatmeal pancakes\n",
            "22499        sophisticated southern buttermilk ice cream\n",
            "33600                                farm stand brownies\n",
            "30446    caramelized pears with dulce de leche ice cream\n",
            "26770       five spice spareribs with hoisin honey glaze\n",
            "32162                         jamaican jerk potato salad\n",
            "Name: name, dtype: object\n"
          ]
        }
      ],
      "source": [
        "title = \"curried indian shrimp\"\n",
        "get_reco(title, cosine_sim)\n",
        "\n",
        "print()\n",
        "title = \"ham  cheese and herb baguette\"\n",
        "get_reco(title, cosine_sim)\n",
        "\n",
        "print()\n",
        "title = \"banana raisin oatmeal pancakes\"\n",
        "get_reco(title, cosine_sim)"
      ]
    },
    {
      "cell_type": "code",
      "execution_count": 19,
      "metadata": {
        "colab": {
          "base_uri": "https://localhost:8080/"
        },
        "id": "1XWNPONnISlU",
        "outputId": "4496799a-965b-4caf-fc9b-deea8cb430c1"
      },
      "outputs": [
        {
          "name": "stdout",
          "output_type": "stream",
          "text": [
            "\n",
            "Description of  curried indian shrimp  : \n",
            "i love curries, this one turns out nicely.\n",
            "\n",
            "Description of the recommendation :  plantains in coconut milk  : \n",
            "this is from kenya.  it could be for dessert or try with curries or fish.\n"
          ]
        }
      ],
      "source": [
        "title = \"curried indian shrimp\"\n",
        "print(\"\\nDescription of \", title, \" : \")\n",
        "print(subset.loc[subset[\"name\"] == title, \"description\"].values[0])\n",
        "\n",
        "title = \"plantains in coconut milk\"\n",
        "print(\"\\nDescription of the recommendation : \", title, \" : \")\n",
        "print(subset.loc[subset[\"name\"] == title, \"description\"].values[0])"
      ]
    },
    {
      "cell_type": "code",
      "execution_count": 20,
      "metadata": {
        "colab": {
          "base_uri": "https://localhost:8080/"
        },
        "id": "956hXWriISig",
        "outputId": "959bd133-2ba1-4436-9d2e-1763828abdd3"
      },
      "outputs": [
        {
          "name": "stdout",
          "output_type": "stream",
          "text": [
            "\n",
            "Description of  ham  cheese and herb baguette  : \n",
            "this french style loaf can be made from start to finish in a little over an hour.  it's a hearty loaf that is delicious sliced and lightly toasted and served with soups, stews, and salads\n",
            "\n",
            "Description of the recommendation :  quick beer bread  : \n",
            "this recipe makes up quick as a wink and is very moist. it's great sliced and toasted or served pipping hot  with soups and salads. enjoy.\n"
          ]
        }
      ],
      "source": [
        "title = \"ham  cheese and herb baguette\"\n",
        "print(\"\\nDescription of \", title, \" : \")\n",
        "print(subset.loc[subset[\"name\"] == title, \"description\"].values[0])\n",
        "\n",
        "title = \"quick beer bread\"\n",
        "print(\"\\nDescription of the recommendation : \", title, \" : \")\n",
        "print(subset.loc[subset[\"name\"] == title, \"description\"].values[0])"
      ]
    },
    {
      "cell_type": "code",
      "execution_count": 21,
      "metadata": {
        "colab": {
          "base_uri": "https://localhost:8080/"
        },
        "id": "uwgJM-w6ItpW",
        "outputId": "6d67e96a-c359-4cff-e5b5-52e72c37bf18"
      },
      "outputs": [
        {
          "name": "stdout",
          "output_type": "stream",
          "text": [
            "\n",
            "Description of  banana raisin oatmeal pancakes  : \n",
            "these are great with maple syrup, honey, marmalade, or even cottage cheese! packed with wholesome fruity flavor. recipe is from bon appetit's february 2004 issue.\n",
            "\n",
            "Description of the recommendation :  sophisticated southern buttermilk ice cream  : \n",
            "bon appetit, february 1994.\n"
          ]
        }
      ],
      "source": [
        "title = \"banana raisin oatmeal pancakes\"\n",
        "print(\"\\nDescription of \", title, \" : \")\n",
        "print(subset.loc[subset[\"name\"] == title, \"description\"].values[0])\n",
        "\n",
        "title = \"sophisticated southern buttermilk ice cream\"\n",
        "print(\"\\nDescription of the recommendation : \", title, \" : \")\n",
        "print(subset.loc[subset[\"name\"] == title, \"description\"].values[0])"
      ]
    },
    {
      "cell_type": "code",
      "execution_count": null,
      "metadata": {
        "id": "2mjMa7GJItmL"
      },
      "outputs": [],
      "source": []
    },
    {
      "cell_type": "code",
      "execution_count": null,
      "metadata": {
        "id": "3eWVZcAjISfU"
      },
      "outputs": [],
      "source": []
    },
    {
      "cell_type": "code",
      "execution_count": 22,
      "metadata": {
        "id": "MUKKg1RS9i9L"
      },
      "outputs": [],
      "source": [
        "del(cosine_sim)"
      ]
    },
    {
      "cell_type": "code",
      "execution_count": null,
      "metadata": {
        "id": "Dv9swif3FxOU"
      },
      "outputs": [],
      "source": []
    }
  ],
  "metadata": {
    "accelerator": "GPU",
    "colab": {
      "machine_shape": "hm",
      "provenance": []
    },
    "kernelspec": {
      "display_name": "Python 3",
      "name": "python3"
    },
    "language_info": {
      "codemirror_mode": {
        "name": "ipython",
        "version": 3
      },
      "file_extension": ".py",
      "mimetype": "text/x-python",
      "name": "python",
      "nbconvert_exporter": "python",
      "pygments_lexer": "ipython3",
      "version": "3.10.11"
    }
  },
  "nbformat": 4,
  "nbformat_minor": 0
}
